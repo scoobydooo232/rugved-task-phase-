{
 "cells": [
  {
   "cell_type": "code",
   "execution_count": null,
   "id": "0330d6da",
   "metadata": {
    "is_executing": true
   },
   "outputs": [],
   "source": [
    "import cv2 as cv\n",
    "import numpy as np\n",
    "\n",
    "video = cv.VideoCapture(\"rugvedtask3opencv.mp4\")\n",
    "green_lower = np.array([40,50,50])\n",
    "green_higher = np.array([80,255,255])\n",
    "\n",
    "while True:\n",
    "    isTrue, frame  = video.read()\n",
    "\n",
    "    hsv = cv.cvtColor(frame, cv.COLOR_BGR2HSV)\n",
    "    mask = cv.inRange(hsv,green_lower,green_higher)\n",
    "    contours,_ = cv.findContours(mask,cv.RETR_EXTERNAL,cv.CHAIN_APPROX_SIMPLE)\n",
    "    for cnt in contours:\n",
    "        area = cv.contourArea(cnt)\n",
    "        if area > 100:\n",
    "            cv.drawContours(frame, [cnt], -1, (0, 255, 0), 2)\n",
    "            x,y,w,h = cv.boundingRect(cnt)\n",
    "            cv.rectangle(frame,(x,y),(x+w,y+h),(125,123,0),3)\n",
    "    cv.imshow(\"frame\", frame)\n",
    "    if cv.waitKey(20) & 0xFF == ord('d'):\n",
    "        break\n",
    "\n",
    "capture.release()\n",
    "cv.destroyWindow()\n"
   ]
  },
  {
   "cell_type": "code",
   "execution_count": null,
   "outputs": [],
   "source": [],
   "metadata": {
    "collapsed": false
   },
   "id": "ff900f56914fbb97"
  }
 ],
 "metadata": {
  "kernelspec": {
   "display_name": "Python 3 (ipykernel)",
   "language": "python",
   "name": "python3"
  },
  "language_info": {
   "codemirror_mode": {
    "name": "ipython",
    "version": 3
   },
   "file_extension": ".py",
   "mimetype": "text/x-python",
   "name": "python",
   "nbconvert_exporter": "python",
   "pygments_lexer": "ipython3",
   "version": "3.11.3"
  }
 },
 "nbformat": 4,
 "nbformat_minor": 5
}
