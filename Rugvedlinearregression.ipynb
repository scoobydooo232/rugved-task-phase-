{
 "cells": [
  {
   "cell_type": "code",
   "execution_count": 1,
   "id": "2907fb5f",
   "metadata": {},
   "outputs": [],
   "source": [
    "import numpy as np\n",
    "import pandas as pd\n",
    "import matplotlib.pyplot as plt\n",
    "from sklearn.metrics import r2_score\n",
    "from sklearn.metrics import mean_absolute_error\n",
    "from sklearn.model_selection import train_test_split"
   ]
  },
  {
   "cell_type": "code",
   "execution_count": 2,
   "id": "99c632a0",
   "metadata": {},
   "outputs": [],
   "source": [
    "def scaling(data):\n",
    "    data = (data - data.min())/(data.max()-data.min())\n",
    "    return data"
   ]
  },
  {
   "cell_type": "code",
   "execution_count": 3,
   "id": "60ba290a",
   "metadata": {},
   "outputs": [],
   "source": [
    "def linear_regression(X,Y,LR,epochs):\n",
    "    m = len(X)\n",
    "    w = np.zeros(X.shape[1])\n",
    "    b = 0\n",
    "    costfunction = []\n",
    "    for i in range(epochs):\n",
    "        y_hat = np.dot(w, X.T) + b\n",
    "        error =y_hat - Y\n",
    "        costfn = np.sum((error**2)/(2*m))\n",
    "        w_gradient =np.dot(X.T, error)/m        \n",
    "        b_gradient = np.sum(error/m) \n",
    "        w = w - LR*w_gradient\n",
    "        b = b - LR*b_gradient\n",
    "        costfunction.append(costfn)\n",
    "\n",
    "        if i%100 == 0:\n",
    "            print(f\"costfunction at {i}:\",round(costfn,5))\n",
    "    \n",
    "    plt.plot(range(epochs),costfunction)\n",
    "    plt.xlabel('Iterations')\n",
    "    plt.ylabel('Cost Function')\n",
    "    plt.show()\n",
    "    \n",
    "    return w,b,costfn\n"
   ]
  },
  {
   "cell_type": "code",
   "execution_count": 4,
   "id": "9df13909",
   "metadata": {},
   "outputs": [],
   "source": [
    "def check_accuracy(w, b, X, Y):\n",
    "    erroravg = 0\n",
    "    m = len(X)\n",
    "    for i, row in X.iterrows():\n",
    "        y_hat = np.dot(w, row) + b\n",
    "        erroravg += np.absolute(round(y_hat - Y[i], 5))\n",
    "    avg_error = erroravg * 100 / m\n",
    "    accuracy = 100 - avg_error\n",
    "    return avg_error, accuracy,y_hat"
   ]
  },
  {
   "cell_type": "code",
   "execution_count": 5,
   "id": "ebc8dd80",
   "metadata": {},
   "outputs": [],
   "source": [
    "def R2SCORE(w,b,X,y):\n",
    "    y_hat = np.dot(X, w) + b\n",
    "    score = r2_score(y,y_hat)\n",
    "    return round(score,2)*100\n"
   ]
  },
  {
   "cell_type": "code",
   "execution_count": 6,
   "id": "724e7fb3",
   "metadata": {},
   "outputs": [],
   "source": [
    "def remove_outliers_zscore(data, columns, threshold=5):\n",
    "    z_scores = np.abs((data[columns] - data[columns].mean()) / data[columns].std())\n",
    "    data_no_outliers = data[(z_scores < threshold).all(axis=1)]\n",
    "    return data_no_outliers"
   ]
  },
  {
   "cell_type": "code",
   "execution_count": 7,
   "id": "f5995bd9",
   "metadata": {},
   "outputs": [
    {
     "name": "stdout",
     "output_type": "stream",
     "text": [
      "costfunction at 0: 0.04384\n",
      "costfunction at 100: 0.01321\n",
      "costfunction at 200: 0.01003\n",
      "costfunction at 300: 0.00844\n",
      "costfunction at 400: 0.00756\n",
      "costfunction at 500: 0.00704\n",
      "costfunction at 600: 0.00671\n",
      "costfunction at 700: 0.00649\n",
      "costfunction at 800: 0.00634\n",
      "costfunction at 900: 0.00622\n"
     ]
    },
    {
     "data": {
      "image/png": "[encoded data removed]",
      "text/plain": [
       "<Figure size 640x480 with 1 Axes>"
      ]
     },
     "metadata": {},
     "output_type": "display_data"
    },
    {
     "name": "stdout",
     "output_type": "stream",
     "text": [
      "R2 for training data:74.0\n",
      "R2 for testing data:69.0\n",
      "train error: 7.961594019607875 || train accuracy: 92.03840598039213\n",
      "test error: 8.769068333333328 || test accuracy: 91.23093166666668\n"
     ]
    }
   ],
   "source": [
    "data = pd.read_csv(\"rugvedlin.csv\")\n",
    "columns_to_check = ['table', 'depth']\n",
    "data= remove_outliers_zscore(data, columns_to_check)\n",
    "data = pd.read_csv(\"rugvedlin.csv\")\n",
    "data = pd.get_dummies(data).astype(int)\n",
    "\n",
    "\n",
    "train_data, test_data = train_test_split(data, test_size=0.15, random_state=7)\n",
    "\n",
    "\n",
    "Y_train = train_data[\"price\"]\n",
    "X_train = train_data.drop([\"price\"], axis=1)\n",
    "X_train = scaling(X_train)\n",
    "Y_train = scaling(Y_train)\n",
    "\n",
    "\n",
    "Y_test = test_data[\"price\"]\n",
    "X_test = test_data.drop([\"price\"], axis=1)\n",
    "X_test = scaling(X_test)\n",
    "Y_test = scaling(Y_test)\n",
    "\n",
    "\n",
    "w, b, costfn= linear_regression(X_train, Y_train, LR=0.1, epochs=1000)\n",
    "\n",
    "\n",
    "trainerror, trainaccuracy,y_hat_train = check_accuracy(w, b, X_train, Y_train)\n",
    "testerror, testaccuracy,y_hat_test = check_accuracy(w, b, X_test, Y_test)\n",
    "r2train = R2SCORE(w,b,X_train,Y_train)\n",
    "r2test = R2SCORE(w,b,X_test,Y_test)\n",
    "\n",
    "print(f\"R2 for training data:{r2train}\")\n",
    "print(f\"R2 for testing data:{r2test}\")\n",
    "print(f\"train error: {trainerror} || train accuracy: {trainaccuracy}\")\n",
    "print(f\"test error: {testerror} || test accuracy: {testaccuracy}\")"
   ]
  },
  {
   "cell_type": "code",
   "execution_count": null,
   "id": "4f93b7a5",
   "metadata": {},
   "outputs": [],
   "source": []
  },
  {
   "cell_type": "code",
   "execution_count": null,
   "id": "b132082d",
   "metadata": {},
   "outputs": [],
   "source": []
  },
  {
   "cell_type": "code",
   "execution_count": null,
   "id": "77dedcc6",
   "metadata": {},
   "outputs": [],
   "source": []
  },
  {
   "cell_type": "code",
   "execution_count": null,
   "id": "053bd141",
   "metadata": {},
   "outputs": [],
   "source": []
  },
  {
   "cell_type": "code",
   "execution_count": null,
   "id": "ee5e2edd",
   "metadata": {},
   "outputs": [],
   "source": []
  }
 ],
 "metadata": {
  "kernelspec": {
   "display_name": "Python 3 (ipykernel)",
   "language": "python",
   "name": "python3"
  },
  "language_info": {
   "codemirror_mode": {
    "name": "ipython",
    "version": 3
   },
   "file_extension": ".py",
   "mimetype": "text/x-python",
   "name": "python",
   "nbconvert_exporter": "python",
   "pygments_lexer": "ipython3",
   "version": "3.11.3"
  }
 },
 "nbformat": 4,
 "nbformat_minor": 5
}
