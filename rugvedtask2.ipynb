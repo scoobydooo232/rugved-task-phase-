{
 "cells": [
  {
   "cell_type": "code",
   "execution_count": null,
   "id": "2a894708",
   "metadata": {},
   "outputs": [],
   "source": []
  },
  {
   "cell_type": "code",
   "execution_count": 3,
   "id": "8fbc4f01",
   "metadata": {},
   "outputs": [
    {
     "name": "stdout",
     "output_type": "stream",
     "text": [
      "58\n"
     ]
    }
   ],
   "source": [
    "#1\n",
    "import pandas as pd\n",
    "matches_df = pd.read_csv('matches.csv')\n",
    "matches_2008 = matches_df[matches_df['season'] == 2008 ]\n",
    "print(matches_2008.count()[0]"
   ]
  },
  {
   "cell_type": "code",
   "execution_count": 6,
   "id": "66873b6e",
   "metadata": {},
   "outputs": [
    {
     "name": "stdout",
     "output_type": "stream",
     "text": [
      "MOST MATCHES : Mumbai\n",
      "LEAST MATCHES : Bloemfontein\n"
     ]
    }
   ],
   "source": [
    "#2\n",
    "import pandas as pd\n",
    "matches_df = pd.read_csv('matches.csv')\n",
    "max_matches = matches_df['city'].value_counts().idxmax()\n",
    "min_matches= matches_df['city'].value_counts().idxmin()\n",
    "print(f\"MOST MATCHES : {max_matches}\")\n",
    "print(f\"LEAST MATCHES : {min_matches}\")"
   ]
  },
  {
   "cell_type": "code",
   "execution_count": 7,
   "id": "316de36a",
   "metadata": {},
   "outputs": [
    {
     "name": "stdout",
     "output_type": "stream",
     "text": [
      "Mumbai            101\n",
      "Kolkata            77\n",
      "Delhi              74\n",
      "Bangalore          66\n",
      "Hyderabad          64\n",
      "Chennai            57\n",
      "Jaipur             47\n",
      "Chandigarh         46\n",
      "Pune               38\n",
      "Durban             15\n",
      "Bengaluru          14\n",
      "Visakhapatnam      13\n",
      "Centurion          12\n",
      "Ahmedabad          12\n",
      "Rajkot             10\n",
      "Mohali             10\n",
      "Indore              9\n",
      "Dharamsala          9\n",
      "Johannesburg        8\n",
      "Cuttack             7\n",
      "Ranchi              7\n",
      "Port Elizabeth      7\n",
      "Cape Town           7\n",
      "Abu Dhabi           7\n",
      "Sharjah             6\n",
      "Raipur              6\n",
      "Kochi               5\n",
      "Kanpur              4\n",
      "Nagpur              3\n",
      "Kimberley           3\n",
      "East London         3\n",
      "Bloemfontein        2\n",
      "Name: city, dtype: int64\n"
     ]
    }
   ],
   "source": [
    "#3\n",
    "import pandas as pd\n",
    "matches_df = pd.read_csv('matches.csv')\n",
    "match = matches_df['city'].value_counts()\n",
    "print(match)"
   ]
  },
  {
   "cell_type": "code",
   "execution_count": 8,
   "id": "34545e22",
   "metadata": {},
   "outputs": [
    {
     "name": "stdout",
     "output_type": "stream",
     "text": [
      "Most tosses won: Mumbai Indians\n",
      "Least tosses won: Rising Pune Supergiant\n"
     ]
    }
   ],
   "source": [
    "#4\n",
    "import pandas as pd\n",
    "matches_df = pd.read_csv('matches.csv')\n",
    "toss_max = matches_df['toss_winner'].value_counts().idxmax()\n",
    "toss_min = matches_df['toss_winner'].value_counts().idxmin()\n",
    "print(f\"Most tosses won: {toss_max}\")\n",
    "print(f\"Least tosses won: {toss_min}\")"
   ]
  },
  {
   "cell_type": "code",
   "execution_count": 9,
   "id": "2d94cb77",
   "metadata": {},
   "outputs": [
    {
     "name": "stdout",
     "output_type": "stream",
     "text": [
      "Mumbai Indians\n",
      "field    54\n",
      "bat      44\n",
      "Name: toss_decision, dtype: int64\n",
      "Rising Pune Supergiant\n",
      "field    6\n",
      "Name: toss_decision, dtype: int64\n"
     ]
    }
   ],
   "source": [
    "#5\n",
    "import pandas as pd\n",
    "matches_df = pd.read_csv('matches.csv')\n",
    "toss_max = matches_df['toss_winner'].value_counts().idxmax()\n",
    "toss_min = matches_df['toss_winner'].value_counts().idxmin()\n",
    "toss_max_df = matches_df[matches_df['toss_winner'] == toss_max]\n",
    "toss_min_df = matches_df[matches_df['toss_winner'] == toss_min]\n",
    "decision_counts_max = toss_max_df['toss_decision'].value_counts()\n",
    "decision_counts_min = toss_min_df['toss_decision'].value_counts()\n",
    "print(toss_max)\n",
    "print(decision_counts_max)\n",
    "print(toss_min)\n",
    "print(decision_counts_min)"
   ]
  },
  {
   "cell_type": "code",
   "execution_count": 10,
   "id": "34376e14",
   "metadata": {},
   "outputs": [
    {
     "name": "stdout",
     "output_type": "stream",
     "text": [
      "normal       743\n",
      "tie            9\n",
      "no result      4\n",
      "Name: result, dtype: int64\n"
     ]
    }
   ],
   "source": [
    "#6\n",
    "import pandas as pd\n",
    "matches_df = pd.read_csv('matches.csv')\n",
    "result = matches_df['result'].value_counts()\n",
    "print(result)"
   ]
  },
  {
   "cell_type": "code",
   "execution_count": 11,
   "id": "0691671c",
   "metadata": {},
   "outputs": [
    {
     "name": "stdout",
     "output_type": "stream",
     "text": [
      "                           team1                        team2\n",
      "33                 Gujarat Lions               Mumbai Indians\n",
      "125             Rajasthan Royals        Kolkata Knight Riders\n",
      "189              Kings XI Punjab          Chennai Super Kings\n",
      "387  Royal Challengers Bangalore          Sunrisers Hyderabad\n",
      "400             Delhi Daredevils  Royal Challengers Bangalore\n",
      "475             Rajasthan Royals        Kolkata Knight Riders\n",
      "535             Rajasthan Royals              Kings XI Punjab\n",
      "705        Kolkata Knight Riders               Delhi Capitals\n",
      "746               Mumbai Indians          Sunrisers Hyderabad\n"
     ]
    }
   ],
   "source": [
    "#7\n",
    "import pandas as pd\n",
    "matches_df = pd.read_csv('matches.csv')\n",
    "tie_matches = matches_df[matches_df['result'] == 'tie']\n",
    "tie_teams = tie_matches[['team1','team2']]\n",
    "print(tie_teams)"
   ]
  },
  {
   "cell_type": "code",
   "execution_count": 12,
   "id": "f7f03001",
   "metadata": {},
   "outputs": [
    {
     "name": "stdout",
     "output_type": "stream",
     "text": [
      "            winner  win_by_runs\n",
      "43  Mumbai Indians          146\n"
     ]
    }
   ],
   "source": [
    "#8\n",
    "import pandas as pd\n",
    "matches_df = pd.read_csv('matches.csv')\n",
    "win_margin_df = matches_df[['winner','win_by_runs']]\n",
    "print(win_margin_df.sort_values('win_by_runs').tail(1))"
   ]
  },
  {
   "cell_type": "code",
   "execution_count": 13,
   "id": "4dca537b",
   "metadata": {},
   "outputs": [
    {
     "name": "stdout",
     "output_type": "stream",
     "text": [
      "             winner  win_by_runs\n",
      "755  Mumbai Indians            1\n"
     ]
    }
   ],
   "source": [
    "#9\n",
    "import pandas as pd\n",
    "matches_df = pd.read_csv('matches.csv')\n",
    "win_margin_df = matches_df[['winner','win_by_runs']]\n",
    "nonzero_win_margin_df = win_margin_df[win_margin_df['win_by_runs'] != 0]\n",
    "print(nonzero_win_margin_df.sort_values('win_by_runs').head(1))"
   ]
  },
  {
   "cell_type": "code",
   "execution_count": 15,
   "id": "1223c42d",
   "metadata": {},
   "outputs": [
    {
     "name": "stdout",
     "output_type": "stream",
     "text": [
      "CH Gayle          21\n",
      "AB de Villiers    20\n",
      "RG Sharma         17\n",
      "MS Dhoni          17\n",
      "DA Warner         17\n",
      "                  ..\n",
      "SK Warne           4\n",
      "CA Lynn            4\n",
      "SS Iyer            4\n",
      "ML Hayden          4\n",
      "KH Pandya          4\n",
      "Name: player_of_match, Length: 65, dtype: int64\n"
     ]
    }
   ],
   "source": [
    "#10\n",
    "import pandas as pd\n",
    "matches_df = pd.read_csv('matches.csv')\n",
    "potm_df = matches_df['player_of_match'].value_counts()\n",
    "potm3_df = potm_df[potm_df>3]\n",
    "print(potm3_df)\n"
   ]
  },
  {
   "cell_type": "code",
   "execution_count": 16,
   "id": "51e83469",
   "metadata": {},
   "outputs": [
    {
     "name": "stdout",
     "output_type": "stream",
     "text": [
      "CH Gayle    21\n",
      "Name: player_of_match, dtype: int64\n"
     ]
    }
   ],
   "source": [
    "#11\n",
    "import pandas as pd\n",
    "matches_df = pd.read_csv('matches.csv')\n",
    "potm = matches_df['player_of_match'].value_counts().sort_values().tail(1)\n",
    "print(potm)\n"
   ]
  },
  {
   "cell_type": "code",
   "execution_count": 17,
   "id": "2db2aa57",
   "metadata": {},
   "outputs": [
    {
     "name": "stdout",
     "output_type": "stream",
     "text": [
      "43    Feroz Shah Kotla\n",
      "Name: venue, dtype: object\n"
     ]
    }
   ],
   "source": [
    "#12\n",
    "import pandas as pd\n",
    "matches_df = pd.read_csv('matches.csv')\n",
    "win_venue_df = matches_df[['venue','win_by_runs']]\n",
    "a = win_venue_df.sort_values('win_by_runs').tail(1)\n",
    "print(a['venue'])"
   ]
  },
  {
   "cell_type": "code",
   "execution_count": 18,
   "id": "42c9d489",
   "metadata": {},
   "outputs": [
    {
     "name": "stdout",
     "output_type": "stream",
     "text": [
      "278    Rajiv Gandhi International Stadium, Uppal\n",
      "Name: venue, dtype: object\n"
     ]
    }
   ],
   "source": [
    "#13\n",
    "import pandas as pd\n",
    "matches_df = pd.read_csv('matches.csv')\n",
    "win_venue_df = matches_df[['venue','win_by_runs']]\n",
    "a = win_venue_df.sort_values('win_by_runs').head(1)\n",
    "print(a['venue'])\n"
   ]
  },
  {
   "cell_type": "code",
   "execution_count": 19,
   "id": "209eda22",
   "metadata": {},
   "outputs": [
    {
     "name": "stdout",
     "output_type": "stream",
     "text": [
      "S Ravi\n"
     ]
    }
   ],
   "source": [
    "#14\n",
    "import pandas as pd\n",
    "matches_df = pd.read_csv('matches.csv')\n",
    "umpires =pd.concat([matches_df['umpire1'], matches_df['umpire2']])\n",
    "print(umpires.value_counts().idxmax())\n"
   ]
  },
  {
   "cell_type": "code",
   "execution_count": 20,
   "id": "03e424ef",
   "metadata": {},
   "outputs": [
    {
     "name": "stdout",
     "output_type": "stream",
     "text": [
      "matches in 2008 : \n",
      "58\n",
      "matches in 2009 : \n",
      "57\n",
      "matches in 2010 : \n",
      "60\n",
      "matches in 2011 : \n",
      "73\n",
      "matches in 2012 : \n",
      "74\n",
      "matches in 2013 : \n",
      "76\n",
      "matches in 2014 : \n",
      "60\n",
      "matches in 2015 : \n",
      "59\n",
      "matches in 2016 : \n",
      "60\n",
      "matches in 2017 : \n",
      "59\n",
      "matches in 2018 : \n",
      "60\n",
      "matches in 2019 : \n",
      "60\n"
     ]
    }
   ],
   "source": [
    "#15\n",
    "import pandas as pd\n",
    "matches_df = pd.read_csv('matches.csv')\n",
    "count = 2008\n",
    "while(count < 2020):\n",
    "    matches_per_year = matches_df[matches_df['season'] == count ]\n",
    "    print(f\"matches in {count} : \" )\n",
    "    print(matches_per_year.count()[0])\n",
    "    count += 1"
   ]
  },
  {
   "cell_type": "code",
   "execution_count": 21,
   "id": "27d11d5f",
   "metadata": {},
   "outputs": [
    {
     "name": "stdout",
     "output_type": "stream",
     "text": [
      "        total_runs\n",
      "season            \n",
      "2008         17937\n",
      "2009         16353\n",
      "2010         18883\n",
      "2011         21154\n",
      "2012         22453\n",
      "2013         22602\n",
      "2014         18931\n",
      "2015         18353\n",
      "2016         18862\n",
      "2017         18786\n",
      "2018         20706\n",
      "2019         20270\n"
     ]
    }
   ],
   "source": [
    "#16\n",
    "import pandas as pd\n",
    "matches_df = pd.read_csv('matches.csv')\n",
    "deliveries_df = pd.read_csv('deliveries.csv')\n",
    "matches_df =matches_df.rename(columns={'id': 'match_id'})\n",
    "merged_df = matches_df.merge(deliveries_df, on = \"match_id\")\n",
    "sum_year = merged_df.groupby('season')[['total_runs']].sum()\n",
    "print(sum_year)"
   ]
  },
  {
   "cell_type": "code",
   "execution_count": 22,
   "id": "65f246a5",
   "metadata": {},
   "outputs": [
    {
     "name": "stdout",
     "output_type": "stream",
     "text": [
      "Mumbai Indians                 98\n",
      "Kolkata Knight Riders          92\n",
      "Chennai Super Kings            89\n",
      "Royal Challengers Bangalore    81\n",
      "Kings XI Punjab                81\n",
      "Delhi Daredevils               80\n",
      "Rajasthan Royals               80\n",
      "Sunrisers Hyderabad            46\n",
      "Deccan Chargers                43\n",
      "Pune Warriors                  20\n",
      "Gujarat Lions                  15\n",
      "Delhi Capitals                 10\n",
      "Kochi Tuskers Kerala            8\n",
      "Rising Pune Supergiants         7\n",
      "Rising Pune Supergiant          6\n",
      "Name: toss_winner, dtype: int64\n"
     ]
    }
   ],
   "source": [
    "#17\n",
    "import pandas as pd\n",
    "matches_df = pd.read_csv('matches.csv')\n",
    "print(matches_df['toss_winner'].value_counts())"
   ]
  },
  {
   "cell_type": "code",
   "execution_count": 23,
   "id": "217ee087",
   "metadata": {},
   "outputs": [
    {
     "name": "stdout",
     "output_type": "stream",
     "text": [
      "season  toss_decision\n",
      "2008    field            32\n",
      "        bat              26\n",
      "2009    bat              35\n",
      "        field            22\n",
      "2010    bat              39\n",
      "        field            21\n",
      "2011    field            48\n",
      "        bat              25\n",
      "2012    bat              37\n",
      "        field            37\n",
      "2013    bat              45\n",
      "        field            31\n",
      "2014    field            41\n",
      "        bat              19\n",
      "2015    field            34\n",
      "        bat              25\n",
      "2016    field            49\n",
      "        bat              11\n",
      "2017    field            48\n",
      "        bat              11\n",
      "2018    field            50\n",
      "        bat              10\n",
      "2019    field            50\n",
      "        bat              10\n",
      "dtype: int64\n"
     ]
    },
    {
     "data": {
      "text/plain": [
       "<Axes: xlabel='season,toss_decision'>"
      ]
     },
     "execution_count": 23,
     "metadata": {},
     "output_type": "execute_result"
    },
    {
     "data": {
      "image/png": "[encoded data removed]",
      "text/plain": [
       "<Figure size 640x480 with 1 Axes>"
      ]
     },
     "metadata": {},
     "output_type": "display_data"
    }
   ],
   "source": [
    "#18\n",
    "import pandas as pd\n",
    "matches_df = pd.read_csv('matches.csv')\n",
    "sum_year = matches_df.groupby('season')[['toss_decision']].value_counts()\n",
    "print(sum_year)\n",
    "sum_year.plot(kind = 'bar')"
   ]
  },
  {
   "cell_type": "code",
   "execution_count": 24,
   "id": "982411ce",
   "metadata": {},
   "outputs": [
    {
     "data": {
      "text/plain": [
       "<Axes: >"
      ]
     },
     "execution_count": 24,
     "metadata": {},
     "output_type": "execute_result"
    },
    {
     "data": {
      "image/png": "[encoded data removed]",
      "text/plain": [
       "<Figure size 640x480 with 1 Axes>"
      ]
     },
     "metadata": {},
     "output_type": "display_data"
    }
   ],
   "source": [
    "#19\n",
    "import pandas as pd\n",
    "deliveries_df = pd.read_csv('deliveries.csv')\n",
    "dismissal_kind = deliveries_df['dismissal_kind'].value_counts()\n",
    "dismissal_kind.plot(kind = 'bar')\n"
   ]
  },
  {
   "cell_type": "code",
   "execution_count": 25,
   "id": "991421ba",
   "metadata": {},
   "outputs": [
    {
     "data": {
      "text/plain": [
       "<Axes: xlabel='batsman'>"
      ]
     },
     "execution_count": 25,
     "metadata": {},
     "output_type": "execute_result"
    },
    {
     "data": {
      "image/png": "[encoded data removed]",
      "text/plain": [
       "<Figure size 640x480 with 1 Axes>"
      ]
     },
     "metadata": {},
     "output_type": "display_data"
    }
   ],
   "source": [
    "\n",
    "#20\n",
    "import pandas as pd\n",
    "deliveries_df = pd.read_csv('deliveries.csv')\n",
    "score_batsman =deliveries_df.groupby('batsman')[['batsman_runs']].sum()\n",
    "top_ten = score_batsman.sort_values('batsman_runs').tail(10)\n",
    "top_ten.plot(kind = 'bar')"
   ]
  },
  {
   "cell_type": "code",
   "execution_count": 26,
   "id": "b54ebd65",
   "metadata": {},
   "outputs": [
    {
     "data": {
      "text/plain": [
       "<Axes: >"
      ]
     },
     "execution_count": 26,
     "metadata": {},
     "output_type": "execute_result"
    },
    {
     "data": {
      "image/png": "[encoded data removed]",
      "text/plain": [
       "<Figure size 640x480 with 1 Axes>"
      ]
     },
     "metadata": {},
     "output_type": "display_data"
    }
   ],
   "source": [
    "#21\n",
    "import pandas as pd\n",
    "matches_df = pd.read_csv('matches.csv')\n",
    "potm = matches_df['player_of_match'].value_counts()\n",
    "top_10_pom = potm.sort_values().tail(10)\n",
    "top_10_pom.plot(kind = 'bar')"
   ]
  },
  {
   "cell_type": "code",
   "execution_count": 27,
   "id": "e7b815bf",
   "metadata": {},
   "outputs": [
    {
     "name": "stdout",
     "output_type": "stream",
     "text": [
      "Chennai Super Kings            164\n",
      "Deccan Chargers                 75\n",
      "Delhi Capitals                  16\n",
      "Delhi Daredevils               161\n",
      "Gujarat Lions                   30\n",
      "Kings XI Punjab                176\n",
      "Kochi Tuskers Kerala            14\n",
      "Kolkata Knight Riders          178\n",
      "Mumbai Indians                 187\n",
      "Pune Warriors                   46\n",
      "Rajasthan Royals               147\n",
      "Rising Pune Supergiant          16\n",
      "Rising Pune Supergiants         14\n",
      "Royal Challengers Bangalore    180\n",
      "Sunrisers Hyderabad            108\n",
      "dtype: int64\n"
     ]
    }
   ],
   "source": [
    "#22\n",
    "import pandas as pd\n",
    "matches_df = pd.read_csv('matches.csv')\n",
    "a = matches_df['team1'].value_counts()\n",
    "b= matches_df['team2'].value_counts()\n",
    "print(a+b)"
   ]
  },
  {
   "cell_type": "code",
   "execution_count": 28,
   "id": "4373e92b",
   "metadata": {},
   "outputs": [
    {
     "name": "stdout",
     "output_type": "stream",
     "text": [
      "                             Total Matches Played  Matches Won  Win Rate\n",
      "Chennai Super Kings                           164          100  0.609756\n",
      "Deccan Chargers                                75           29  0.386667\n",
      "Delhi Capitals                                 16           10  0.625000\n",
      "Delhi Daredevils                              161           67  0.416149\n",
      "Gujarat Lions                                  30           13  0.433333\n",
      "Kings XI Punjab                               176           82  0.465909\n",
      "Kochi Tuskers Kerala                           14            6  0.428571\n",
      "Kolkata Knight Riders                         178           92  0.516854\n",
      "Mumbai Indians                                187          109  0.582888\n",
      "Pune Warriors                                  46           12  0.260870\n",
      "Rajasthan Royals                              147           75  0.510204\n",
      "Rising Pune Supergiant                         16           10  0.625000\n",
      "Rising Pune Supergiants                        14            5  0.357143\n",
      "Royal Challengers Bangalore                   180           84  0.466667\n",
      "Sunrisers Hyderabad                           108           58  0.537037\n"
     ]
    }
   ],
   "source": [
    "#23\n",
    "import pandas as pd\n",
    "matches_df = pd.read_csv('matches.csv')\n",
    "a = matches_df['team1'].value_counts()\n",
    "b= matches_df['team2'].value_counts()\n",
    "total_matches_played = a + b\n",
    "matches_won = matches_df['winner'].value_counts()\n",
    "win_rate = matches_won/total_matches_played\n",
    "result_df = pd.DataFrame({'Total Matches Played': total_matches_played, 'Matches Won': matches_won,'Win Rate': win_rate})\n",
    "print(result_df)"
   ]
  },
  {
   "cell_type": "code",
   "execution_count": 37,
   "id": "26581c46",
   "metadata": {},
   "outputs": [
    {
     "data": {
      "text/plain": [
       "<Axes: >"
      ]
     },
     "execution_count": 37,
     "metadata": {},
     "output_type": "execute_result"
    },
    {
     "data": {
      "image/png": "[encoded data removed]",
      "text/plain": [
       "<Figure size 640x480 with 1 Axes>"
      ]
     },
     "metadata": {},
     "output_type": "display_data"
    }
   ],
   "source": [
    "#24\n",
    "import pandas as pd\n",
    "matches_df = pd.read_csv('matches.csv')\n",
    "distribution_df = matches_df['winner'].value_counts()\n",
    "distribution_df.plot(kind = 'bar')\n"
   ]
  },
  {
   "cell_type": "code",
   "execution_count": 29,
   "id": "477da86e",
   "metadata": {},
   "outputs": [
    {
     "name": "stdout",
     "output_type": "stream",
     "text": [
      "Chennai Super Kings            0.609756\n",
      "Deccan Chargers                0.386667\n",
      "Delhi Capitals                 0.625000\n",
      "Delhi Daredevils               0.416149\n",
      "Gujarat Lions                  0.433333\n",
      "Kings XI Punjab                0.465909\n",
      "Kochi Tuskers Kerala           0.428571\n",
      "Kolkata Knight Riders          0.516854\n",
      "Mumbai Indians                 0.582888\n",
      "Pune Warriors                  0.260870\n",
      "Rajasthan Royals               0.510204\n",
      "Rising Pune Supergiant         0.625000\n",
      "Rising Pune Supergiants        0.357143\n",
      "Royal Challengers Bangalore    0.466667\n",
      "Sunrisers Hyderabad            0.537037\n",
      "dtype: float64\n"
     ]
    }
   ],
   "source": [
    "#25\n",
    "import pandas as pd\n",
    "matches_df = pd.read_csv('matches.csv')\n",
    "a = matches_df['team1'].value_counts()\n",
    "b= matches_df['team2'].value_counts()\n",
    "total_matches_played = a + b\n",
    "matches_won = matches_df['winner'].value_counts()\n",
    "win_rate = matches_won/total_matches_played\n",
    "print(win_rate)"
   ]
  },
  {
   "cell_type": "code",
   "execution_count": 30,
   "id": "8bfbd9d0",
   "metadata": {},
   "outputs": [
    {
     "name": "stdout",
     "output_type": "stream",
     "text": [
      "toss_winner                  toss_decision\n",
      "Chennai Super Kings          bat              48\n",
      "                             field            41\n",
      "Deccan Chargers              bat              24\n",
      "                             field            19\n",
      "Delhi Capitals               field             8\n",
      "                             bat               2\n",
      "Delhi Daredevils             field            51\n",
      "                             bat              29\n",
      "Gujarat Lions                field            14\n",
      "                             bat               1\n",
      "Kings XI Punjab              field            55\n",
      "                             bat              26\n",
      "Kochi Tuskers Kerala         field             5\n",
      "                             bat               3\n",
      "Kolkata Knight Riders        field            62\n",
      "                             bat              30\n",
      "Mumbai Indians               field            54\n",
      "                             bat              44\n",
      "Pune Warriors                bat              11\n",
      "                             field             9\n",
      "Rajasthan Royals             field            48\n",
      "                             bat              32\n",
      "Rising Pune Supergiant       field             6\n",
      "Rising Pune Supergiants      field             4\n",
      "                             bat               3\n",
      "Royal Challengers Bangalore  field            61\n",
      "                             bat              20\n",
      "Sunrisers Hyderabad          field            26\n",
      "                             bat              20\n",
      "dtype: int64\n"
     ]
    }
   ],
   "source": [
    "#26\n",
    "import pandas as pd\n",
    "matches_df = pd.read_csv('matches.csv')\n",
    "team_decision = matches_df.groupby('toss_winner')[['toss_decision']].value_counts()\n",
    "print(team_decision)\n"
   ]
  },
  {
   "cell_type": "code",
   "execution_count": null,
   "id": "ebd71494",
   "metadata": {},
   "outputs": [],
   "source": []
  },
  {
   "cell_type": "code",
   "execution_count": null,
   "id": "6e7f64f6",
   "metadata": {},
   "outputs": [],
   "source": []
  }
 ],
 "metadata": {
  "kernelspec": {
   "display_name": "Python 3 (ipykernel)",
   "language": "python",
   "name": "python3"
  },
  "language_info": {
   "codemirror_mode": {
    "name": "ipython",
    "version": 3
   },
   "file_extension": ".py",
   "mimetype": "text/x-python",
   "name": "python",
   "nbconvert_exporter": "python",
   "pygments_lexer": "ipython3",
   "version": "3.11.3"
  }
 },
 "nbformat": 4,
 "nbformat_minor": 5
}
