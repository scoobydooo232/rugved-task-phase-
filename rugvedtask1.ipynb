{
 "cells": [
  {
   "cell_type": "code",
   "execution_count": 2,
   "id": "d30bff53",
   "metadata": {
    "scrolled": true
   },
   "outputs": [
    {
     "name": "stdout",
     "output_type": "stream",
     "text": [
      "a:true\n",
      "b:false\n",
      "c:false\n",
      "True\n"
     ]
    }
   ],
   "source": [
    "#1.Define a function named “triple_and” that takes three parameters and returns True only if they are all True and False otherwise\n",
    "\n",
    "def triple_and(a, b, c):\n",
    "    count = 0\n",
    "    if a.lower() ==\"true\" or a.lower() == \"false\":\n",
    "        count += 1\n",
    "    if b.lower() ==\"true\" or b.lower() == \"false\":\n",
    "        count += 1\n",
    "    if c.lower() == \"true\" or c.lower() == \"false\":\n",
    "        count += 1\n",
    "    if count == 3:\n",
    "        return True\n",
    "    else:\n",
    "        return False\n",
    "\n",
    "a = input(\"a:\")\n",
    "b = input(\"b:\")\n",
    "c = input(\"c:\")\n",
    "\n",
    "result =  triple_and(a,b,c)\n",
    "print(result)"
   ]
  },
  {
   "cell_type": "code",
   "execution_count": 3,
   "id": "00ceaf4d",
   "metadata": {},
   "outputs": [
    {
     "name": "stdout",
     "output_type": "stream",
     "text": [
      "enter the string to be sorted herelmao\n",
      "The original string : lmao\n",
      "String after sorting : almo\n",
      "{'a': 1, 'l': 1, 'm': 1, 'o': 1}\n"
     ]
    }
   ],
   "source": [
    "#2.Write a python program to sort a string alphabetically and print the count of each character.\n",
    "\n",
    "test_string = input(\"enter the string to be sorted here\")\n",
    "\n",
    "print(\"The original string : \" + str(test_string))\n",
    "\n",
    "\n",
    "res = ''.join(sorted(test_string))\n",
    "\n",
    "# print result\n",
    "print(\"String after sorting : \" + str(res))\n",
    "\n",
    "count={}\n",
    "for char in res:\n",
    "    if char in count:\n",
    "        count[char] += 1\n",
    "    else:\n",
    "        count[char] = 1\n",
    "print(count)\n"
   ]
  },
  {
   "cell_type": "code",
   "execution_count": 4,
   "id": "31165bc7",
   "metadata": {},
   "outputs": [
    {
     "name": "stdout",
     "output_type": "stream",
     "text": [
      "enter the number here: 12321\n",
      "HILL NUMBER\n"
     ]
    }
   ],
   "source": [
    "#3.Write a python program to check if given number is a hill number.\n",
    "\n",
    "def palindrome(number):\n",
    "    temp = number\n",
    "    reverse = 0\n",
    "    while(number > 0):\n",
    "        last = number%10\n",
    "        reverse = reverse*10 + last\n",
    "        number = number // 10\n",
    "\n",
    "    if temp == reverse:\n",
    "        return True\n",
    "    else:\n",
    "        return False\n",
    "\n",
    "number_string = input(\"enter the number here: \")\n",
    "list_number = list(number_string)\n",
    "number = int(number_string)\n",
    "\n",
    "for i in range(0,len(list_number)//2 + 1):\n",
    "    if list_number[i] > list_number[i-1]:\n",
    "        x = True\n",
    "    else:\n",
    "        x = False\n",
    "for i in range(len(list_number)//2 + 1, len(list_number)):\n",
    "    if list_number[i] < list_number[i-1]:\n",
    "        x = True\n",
    "    else:\n",
    "        x = False\n",
    "\n",
    "if palindrome(number) and x :\n",
    "    print(\"HILL NUMBER\")\n",
    "else:\n",
    "    print(\"NOT A HILL NUMBER\")\n",
    "\n"
   ]
  },
  {
   "cell_type": "code",
   "execution_count": 5,
   "id": "82416d54",
   "metadata": {},
   "outputs": [
    {
     "name": "stdout",
     "output_type": "stream",
     "text": [
      "string to be sorted:silent\n",
      "Sorted string: eilnst\n"
     ]
    }
   ],
   "source": [
    "#4. Write a python function to perform selection sort on a given string.\n",
    "\n",
    "def selection_sort_string(input_string):\n",
    "    n = len(input_string)\n",
    "    string_list = list(input_string)\n",
    "\n",
    "    for i in range(n):\n",
    "        min_index = i\n",
    "        for j in range(i + 1, n):\n",
    "            if string_list[j] < string_list[min_index]:\n",
    "                min_index = j\n",
    "        string_list[i], string_list[min_index] = string_list[min_index], string_list[i]\n",
    "\n",
    "    sorted_string = ''.join(string_list)\n",
    "    return sorted_string\n",
    "\n",
    "input_string = input(\"string to be sorted:\")\n",
    "sorted_string = selection_sort_string(input_string)\n",
    "print(\"Sorted string:\", sorted_string)\n",
    "\n",
    "\n"
   ]
  },
  {
   "cell_type": "code",
   "execution_count": 6,
   "id": "0b913bde",
   "metadata": {},
   "outputs": [
    {
     "name": "stdout",
     "output_type": "stream",
     "text": [
      "emter the number here:2\n",
      "the factorial of the number is : 2\n"
     ]
    }
   ],
   "source": [
    "#5.Find the factorial of a given number using recursion\n",
    "\n",
    "def fact(n):\n",
    "    if n == 1:\n",
    "        return n\n",
    "    else:\n",
    "        return n*fact(n-1)\n",
    "\n",
    "n=int(input(\"emter the number here:\"))\n",
    "a = str(fact(n))\n",
    "print(\"the factorial of the number is : \" +  a )\n"
   ]
  },
  {
   "cell_type": "code",
   "execution_count": 7,
   "id": "0835d39f",
   "metadata": {},
   "outputs": [
    {
     "name": "stdout",
     "output_type": "stream",
     "text": [
      "first word::solent\n",
      "second word:listen\n",
      "False\n"
     ]
    }
   ],
   "source": [
    "\n",
    "#6.Create a function that checks whether given string is an anagram or not?\n",
    "def anagram(string1, string2):\n",
    "    string1 = string1.lower()\n",
    "    string2 = string2.lower()\n",
    "\n",
    "    if sorted(string1) == sorted(string2):\n",
    "        return True\n",
    "    else:\n",
    "        return False\n",
    "\n",
    "string1=input(\"first word::\")\n",
    "string2=input(\"second word:\")\n",
    "a = anagram(string1,string2)\n",
    "print(a)\n"
   ]
  },
  {
   "cell_type": "code",
   "execution_count": 8,
   "id": "1aa2cbcd",
   "metadata": {},
   "outputs": [
    {
     "name": "stdout",
     "output_type": "stream",
     "text": [
      "Enter a value for n: 4\n",
      "The Fibonacci sequence up to n is:\n",
      "0\n",
      "1\n",
      "1\n",
      "2\n"
     ]
    }
   ],
   "source": [
    "#7.Write a program to print the Fibonacci Sequence till n-values where n is user input.\n",
    "\n",
    "def fibonacci(n):\n",
    "  if n <= 1:\n",
    "    return n\n",
    "  else:\n",
    "    return fibonacci(n - 1) + fibonacci(n - 2)\n",
    "n = -1\n",
    "while n < 0:\n",
    "  n = int(input(\"Enter a value for n: \"))\n",
    "print(\"The Fibonacci sequence up to n is:\")\n",
    "for i in range(n):\n",
    "  print(fibonacci(i))\n"
   ]
  },
  {
   "cell_type": "code",
   "execution_count": 9,
   "id": "d590b267",
   "metadata": {},
   "outputs": [
    {
     "name": "stdout",
     "output_type": "stream",
     "text": [
      "Enter a string: abcdabcd\n",
      "Enter the number of characters in each part: 2\n",
      "The string divided into equal parts is:\n",
      "['ab', 'cd', 'ab', 'cd']\n"
     ]
    }
   ],
   "source": [
    "#8.Write a python program to divide a given string into equal parts containing n(user input) characters of same sequence. Example: string=“abcdabcdabcdabcd”n=4 output: “abcd”, “abcd”, “abcd”, “abcd”\n",
    "\n",
    "def divide_string(string, n):\n",
    "    substrings = []\n",
    "    for i in range(0, len(string), n):\n",
    "        substrings.append(string[i:i + n])\n",
    "    return substrings\n",
    "string = input(\"Enter a string: \")\n",
    "n = int(input(\"Enter the number of characters in each part: \"))\n",
    "print(\"The string divided into equal parts is:\")\n",
    "print(divide_string(string,n))\n"
   ]
  },
  {
   "cell_type": "code",
   "execution_count": 10,
   "id": "af2be907",
   "metadata": {},
   "outputs": [
    {
     "name": "stdout",
     "output_type": "stream",
     "text": [
      "enter the statement to be encrypted here:abcdef\n",
      "shift:2\n",
      "the encrpyted text:\n",
      "cdefgh\n"
     ]
    }
   ],
   "source": [
    "#9. Write a python function to encrypt a string using Ceasar’s Cipher\n",
    "\n",
    "def ceaser_cipher(string,shift):\n",
    "    encrpytedstring = \"\"\n",
    "    for char in string:\n",
    "        if char.isalpha():\n",
    "            if char.isupper():\n",
    "                encrpytedstring += chr((ord(char) - 65 + shift) % 26 + 65 )\n",
    "            else:\n",
    "                encrpytedstring += chr((ord(char) - 97 + shift) % 26 + 97)\n",
    "        else:\n",
    "            encrpytedstring += char\n",
    "    return encrpytedstring\n",
    "\n",
    "string = str(input(\"enter the statement to be encrypted here:\"))\n",
    "shift = int(input(\"shift:\"))\n",
    "print(\"the encrpyted text:\")\n",
    "print(ceaser_cipher(string,shift))\n"
   ]
  },
  {
   "cell_type": "code",
   "execution_count": 13,
   "id": "86911370",
   "metadata": {},
   "outputs": [
    {
     "name": "stdout",
     "output_type": "stream",
     "text": [
      "enter the credit card number here:123456789\n",
      "invalid card\n"
     ]
    }
   ],
   "source": [
    "#10Write a python function to check if a given credit card number is valid or not using Luhn’s Algorithm.\n",
    "\n",
    "def digits(credit_card):\n",
    "    sum = 0\n",
    "    isalternating = False\n",
    "    while (credit_card > 0):\n",
    "       if (isalternating == True):\n",
    "          last_digit = credit_card % 10\n",
    "          product = sumandmultiply(last_digit)\n",
    "          sum += product\n",
    "       else:\n",
    "           last_digit = credit_card % 10\n",
    "           sum += last_digit\n",
    "       isalternating = not isalternating\n",
    "       credit_card = credit_card//10\n",
    "    return sum\n",
    "\n",
    "def sumandmultiply(last_digit):\n",
    "    multiply = last_digit*2\n",
    "    sum = 0\n",
    "    while multiply>0:\n",
    "       last_digit_multiply = multiply % 10\n",
    "       sum += last_digit_multiply\n",
    "       multiply = multiply//10\n",
    "    return sum;\n",
    "\n",
    "\n",
    "credit_card = int(input(\"enter the credit card number here:\"))\n",
    "sum_digits = digits(credit_card)\n",
    "if (sum_digits % 10) == 0:\n",
    "    print(\"valid card\")\n",
    "else:\n",
    "    print(\"invalid card\")\n",
    "\n",
    "\n"
   ]
  },
  {
   "cell_type": "code",
   "execution_count": 14,
   "id": "039edda9",
   "metadata": {},
   "outputs": [
    {
     "name": "stdout",
     "output_type": "stream",
     "text": [
      "enter the text here:i have no idea what this is\n",
      "Grade:2\n"
     ]
    }
   ],
   "source": [
    "#11.Write a Python program that prints the grade level of a given text using Coleman-Liau formula.\n",
    "\n",
    "\n",
    "text = input(\"enter the text here:\")\n",
    "count_words = 1\n",
    "count_sentences = 0\n",
    "count_letters = 0\n",
    "for char in text:\n",
    "    if char == \" \" :\n",
    "        count_words +=1\n",
    "    elif char.isalpha():\n",
    "        count_letters += 1\n",
    "    elif char == \".\" or char == \"?\" or char == \"!\":\n",
    "        count_sentences += 1\n",
    "\n",
    "\n",
    "L = float (count_letters)/float (count_words)  *100\n",
    "S=  count_sentences / count_words *100\n",
    "index = round(0.0588 * L - 0.296 * S - 15.8)\n",
    "print(f\"Grade:{index}\" )\n",
    "\n"
   ]
  },
  {
   "cell_type": "code",
   "execution_count": null,
   "id": "dfef5459",
   "metadata": {},
   "outputs": [],
   "source": []
  }
 ],
 "metadata": {
  "kernelspec": {
   "display_name": "Python 3 (ipykernel)",
   "language": "python",
   "name": "python3"
  },
  "language_info": {
   "codemirror_mode": {
    "name": "ipython",
    "version": 3
   },
   "file_extension": ".py",
   "mimetype": "text/x-python",
   "name": "python",
   "nbconvert_exporter": "python",
   "pygments_lexer": "ipython3",
   "version": "3.11.3"
  }
 },
 "nbformat": 4,
 "nbformat_minor": 5
}
